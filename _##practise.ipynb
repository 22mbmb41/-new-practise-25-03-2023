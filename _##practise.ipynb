{
 "cells": [
  {
   "cell_type": "code",
   "execution_count": 1,
   "id": "d9042617-4262-49af-bac6-55c4e3cb540c",
   "metadata": {},
   "outputs": [
    {
     "name": "stdin",
     "output_type": "stream",
     "text": [
      "enter your choice sum 11\n"
     ]
    },
    {
     "data": {
      "text/plain": [
       "56"
      ]
     },
     "execution_count": 1,
     "metadata": {},
     "output_type": "execute_result"
    }
   ],
   "source": [
    "u2= int(input('enter your choice sum')) # sum of 1,1,2,3,4,5,6,7,8,9,10\n",
    "st2=1\n",
    "cnt2=1\n",
    "while cnt2<u2:\n",
    "    st2=st2+cnt2\n",
    "    cnt2=cnt2+1\n",
    "st2"
   ]
  },
  {
   "cell_type": "code",
   "execution_count": 2,
   "id": "9499cdd2-0ffb-4a45-b8d3-bad9fec469bf",
   "metadata": {},
   "outputs": [
    {
     "name": "stdin",
     "output_type": "stream",
     "text": [
      "enter number 10\n"
     ]
    },
    {
     "data": {
      "text/plain": [
       "36"
      ]
     },
     "execution_count": 2,
     "metadata": {},
     "output_type": "execute_result"
    }
   ],
   "source": [
    "u3=int(input('enter number')) # sum of 6,6,7,8,9\n",
    "st3=1\n",
    "cnt3=5\n",
    "while cnt3<u3:\n",
    "    st3=st3+cnt3\n",
    "    cnt3=cnt3+1\n",
    "st3"
   ]
  },
  {
   "cell_type": "code",
   "execution_count": 4,
   "id": "a84e267f-d946-4bb9-b175-516e09fd0087",
   "metadata": {},
   "outputs": [
    {
     "name": "stdin",
     "output_type": "stream",
     "text": [
      "enter your number 10\n"
     ]
    },
    {
     "data": {
      "text/plain": [
       "35"
      ]
     },
     "execution_count": 4,
     "metadata": {},
     "output_type": "execute_result"
    }
   ],
   "source": [
    "y=int(input('enter your number')) # sum of 5,6,7,8,9 (5-9)\n",
    "start=0\n",
    "counter=5\n",
    "while counter<y:\n",
    "    start=start+counter\n",
    "    counter=counter+1\n",
    "start"
   ]
  },
  {
   "cell_type": "code",
   "execution_count": 5,
   "id": "bb219dcb-893e-4d8e-8b76-685cb63f60e9",
   "metadata": {},
   "outputs": [
    {
     "name": "stdin",
     "output_type": "stream",
     "text": [
      "enter your number 10\n"
     ]
    },
    {
     "data": {
      "text/plain": [
       "37"
      ]
     },
     "execution_count": 5,
     "metadata": {},
     "output_type": "execute_result"
    }
   ],
   "source": [
    "y=int(input('enter your number')) # sum of 7,6,7,8,9\n",
    "start=2\n",
    "counter=5\n",
    "while counter<y:\n",
    "    start=start+counter\n",
    "    counter=counter+1\n",
    "start"
   ]
  },
  {
   "cell_type": "code",
   "execution_count": 7,
   "id": "44c8f7ec-6327-4304-a9f3-2286745737de",
   "metadata": {},
   "outputs": [
    {
     "name": "stdin",
     "output_type": "stream",
     "text": [
      "enter your number 20\n"
     ]
    },
    {
     "data": {
      "text/plain": [
       "210"
      ]
     },
     "execution_count": 7,
     "metadata": {},
     "output_type": "execute_result"
    }
   ],
   "source": [
    "r=int(input('enter your number')) # sum of 1,2,3,4,5,6,7,8,9,10,11,12,13,14,15,16,17,18,19,20 (0-20/1-20)\n",
    "r_starting=0\n",
    "r_count=1\n",
    "while r_count<=r:\n",
    "    r_starting=r_starting+r_count\n",
    "    r_count=r_count+1\n",
    "r_starting"
   ]
  },
  {
   "cell_type": "code",
   "execution_count": 8,
   "id": "299f41e6-0b19-40be-a28a-09e222863921",
   "metadata": {},
   "outputs": [
    {
     "name": "stdin",
     "output_type": "stream",
     "text": [
      "enter your number 20\n"
     ]
    },
    {
     "data": {
      "text/plain": [
       "110"
      ]
     },
     "execution_count": 8,
     "metadata": {},
     "output_type": "execute_result"
    }
   ],
   "source": [
    "r=int(input('enter your number')) # sum of even numbers up to 20 i.e 2,4,6,8,10,12,14,16,18,20 \n",
    "r_starting=0\n",
    "r_count=2\n",
    "while r_count<=r:\n",
    "    r_starting=r_starting+r_count\n",
    "    r_count=r_count+2\n",
    "r_starting"
   ]
  },
  {
   "cell_type": "code",
   "execution_count": 10,
   "id": "f5470b3f-7c0d-4777-844f-e2ac0dd42dd6",
   "metadata": {},
   "outputs": [
    {
     "name": "stdin",
     "output_type": "stream",
     "text": [
      "enter number 20\n"
     ]
    },
    {
     "data": {
      "text/plain": [
       "75"
      ]
     },
     "execution_count": 10,
     "metadata": {},
     "output_type": "execute_result"
    }
   ],
   "source": [
    "r=int(input('enter number')) # sum of  odd numbers up to 20 i.e 11,13,15,17,19 \n",
    "r_starting=0\n",
    "r_count=11\n",
    "while r_count<=r:\n",
    "    r_starting=r_starting+r_count\n",
    "    r_count=r_count+2\n",
    "r_starting"
   ]
  },
  {
   "cell_type": "code",
   "execution_count": 11,
   "id": "4c7112fe-d6c0-493b-a14d-cdef774aac35",
   "metadata": {},
   "outputs": [
    {
     "name": "stdin",
     "output_type": "stream",
     "text": [
      "enter number 50\n"
     ]
    },
    {
     "data": {
      "text/plain": [
       "35437500000000"
      ]
     },
     "execution_count": 11,
     "metadata": {},
     "output_type": "execute_result"
    }
   ],
   "source": [
    "r=int(input('enter number')) # multiply of table of 5 i.e multiply of (5,10,15,20,25,---,50)\n",
    "r_starting=1\n",
    "r_count=5\n",
    "while r_count<=r:\n",
    "    r_starting=r_starting*r_count\n",
    "    r_count=r_count+5\n",
    "r_starting"
   ]
  },
  {
   "cell_type": "code",
   "execution_count": 12,
   "id": "bc8ce18d-21bc-4c43-8dbd-b9a8852c999b",
   "metadata": {},
   "outputs": [
    {
     "name": "stdin",
     "output_type": "stream",
     "text": [
      "enter number 20\n"
     ]
    },
    {
     "data": {
      "text/plain": [
       "3715891200"
      ]
     },
     "execution_count": 12,
     "metadata": {},
     "output_type": "execute_result"
    }
   ],
   "source": [
    "r=int(input('enter number')) # multiply of table of 2  i.e multiply of (2,4,6,8,---,20)\n",
    "r_starting=1\n",
    "r_count=2\n",
    "while r_count<=r:\n",
    "    r_starting=r_starting*r_count\n",
    "    r_count=r_count+2\n",
    "r_starting"
   ]
  },
  {
   "cell_type": "code",
   "execution_count": null,
   "id": "2109bb54-ae76-404e-b7d0-4a8931bb0746",
   "metadata": {},
   "outputs": [],
   "source": []
  }
 ],
 "metadata": {
  "kernelspec": {
   "display_name": "Python 3 (ipykernel)",
   "language": "python",
   "name": "python3"
  },
  "language_info": {
   "codemirror_mode": {
    "name": "ipython",
    "version": 3
   },
   "file_extension": ".py",
   "mimetype": "text/x-python",
   "name": "python",
   "nbconvert_exporter": "python",
   "pygments_lexer": "ipython3",
   "version": "3.10.8"
  }
 },
 "nbformat": 4,
 "nbformat_minor": 5
}
